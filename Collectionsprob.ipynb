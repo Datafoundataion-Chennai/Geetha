{
 "cells": [
  {
   "cell_type": "code",
   "execution_count": 1,
   "id": "55be930b-3dd2-4770-85a9-db252eb4d8b2",
   "metadata": {},
   "outputs": [
    {
     "name": "stdout",
     "output_type": "stream",
     "text": [
      "OrderedDict({'bread': 8, 'milk': 3, 'cigarettes': 4})\n"
     ]
    }
   ],
   "source": [
    "# 🚔 Theme: Managing a Prison Canteen Problem: You are in charge of tracking food supplies in a prison canteen. Prisoners purchase items, and you need to maintain the total quantity sold for each item in the order they were first requested. Write a function that takes a list of tuples where each tuple contains a food item and quantity bought. The function should return an OrderedDict with total quantities per item in order of their first purchase.\n",
    "\n",
    "# Example Input: requests = [ (\"bread\", 5), (\"milk\", 2), (\"bread\", 3), (\"cigarettes\", 4), (\"milk\", 1) ] Expected Output: OrderedDict([ ('bread', 8), ('milk', 3), ('cigarettes', 4) ]) 🚔 Hint: Use OrderedDict and Counter to track purchases\n",
    "\n",
    "\n",
    "\n",
    "from collections import Counter\n",
    "from collections import OrderedDict\n",
    "from collections import deque\n",
    "requests=[\n",
    "    (\"bread\",5),\n",
    "    (\"milk\",2),\n",
    "    (\"bread\",3),\n",
    "    (\"cigarettes\",4),\n",
    "    (\"milk\",1)\n",
    "]\n",
    "\n",
    "dictionary=OrderedDict()\n",
    "for item,quantity in requests:\n",
    "    if item in dictionary:\n",
    "        dictionary[item]+=quantity\n",
    "    else:\n",
    "        dictionary[item]=quantity\n",
    "print(dictionary)"
   ]
  },
  {
   "cell_type": "code",
   "execution_count": 3,
   "id": "23c407e3-6f1a-4d32-b50f-b37e81f53697",
   "metadata": {},
   "outputs": [
    {
     "name": "stdout",
     "output_type": "stream",
     "text": [
      "['attack', 'retreat', 'tanks', 'UNKNOWN']\n"
     ]
    }
   ],
   "source": [
    "# 2. Battlefield Communications Decoder (defaultdict, deque)\n",
    "# 🚔 Theme: Warzone Battlefield Encryption Problem: A military unit is intercepting encrypted enemy messages. Each word in the messages is an anagram of an actual codeword. You have a dictionary of known codewords, and you need to decode the intercepted words. Write a function that takes a list of known codewords and a list of intercepted messages. Return the correct words. If no match is found, return \"UNKNOWN\". Example input: codewords = [\"attack\", \"retreat\", \"sniper\", \"danger\", \"tanks\", \"enemy\"] intercepted = [\"ckatta\", \"ratreet\", \"ksnat\", \"shadow\"] Expected Output: ['attack', 'retreat', 'tanks', 'UNKNOWN'] 🚔 Hint: Use defaultdict(list) to map sorted characters of words\n",
    "from collections import Counter\n",
    "from collections import defaultdict\n",
    "\n",
    "codewords = [\"attack\", \"retreat\", \"sniper\", \"danger\", \"tanks\", \"enemy\"]\n",
    "intercepted = [\"ckatta\", \"ratreet\", \"ksnat\", \"shadow\"]\n",
    "\n",
    "final = defaultdict(lambda: \"UNKNOWN\")\n",
    "for word in codewords:\n",
    "    sorted_word = \"\".join(sorted(word))\n",
    "    final[sorted_word] = word\n",
    "\n",
    "decoded_messages = []\n",
    "for word in intercepted:\n",
    "    sorted_word = \"\".join(sorted(word))\n",
    "    decoded_messages.append(final[sorted_word])\n",
    "\n",
    "print(decoded_messages)\n",
    "\n"
   ]
  },
  {
   "cell_type": "code",
   "execution_count": 5,
   "id": "5fd367e7-f68e-4ae0-8ef9-29feeae37666",
   "metadata": {},
   "outputs": [
    {
     "name": "stdout",
     "output_type": "stream",
     "text": [
      "Current Crew Roster\n"
     ]
    },
    {
     "ename": "NameError",
     "evalue": "name 'crew_roster' is not defined",
     "output_type": "error",
     "traceback": [
      "\u001b[1;31m---------------------------------------------------------------------------\u001b[0m",
      "\u001b[1;31mNameError\u001b[0m                                 Traceback (most recent call last)",
      "Cell \u001b[1;32mIn[5], line 40\u001b[0m\n\u001b[0;32m     36\u001b[0m add_crew(\u001b[38;5;124m\"\u001b[39m\u001b[38;5;124mLt. Orion\u001b[39m\u001b[38;5;124m\"\u001b[39m, \u001b[38;5;124m\"\u001b[39m\u001b[38;5;124mEngineer\u001b[39m\u001b[38;5;124m\"\u001b[39m, \u001b[38;5;241m7\u001b[39m)\n\u001b[0;32m     39\u001b[0m remove_least_experienced()\n\u001b[1;32m---> 40\u001b[0m display_roster()\n",
      "Cell \u001b[1;32mIn[5], line 28\u001b[0m, in \u001b[0;36mdisplay_roster\u001b[1;34m()\u001b[0m\n\u001b[0;32m     26\u001b[0m \u001b[38;5;28;01mif\u001b[39;00m roster:\n\u001b[0;32m     27\u001b[0m     \u001b[38;5;28mprint\u001b[39m(\u001b[38;5;124m\"\u001b[39m\u001b[38;5;124mCurrent Crew Roster\u001b[39m\u001b[38;5;124m\"\u001b[39m)\n\u001b[1;32m---> 28\u001b[0m     \u001b[38;5;28;01mfor\u001b[39;00m i, member \u001b[38;5;129;01min\u001b[39;00m \u001b[38;5;28menumerate\u001b[39m(crew_roster, start\u001b[38;5;241m=\u001b[39m\u001b[38;5;241m1\u001b[39m):\n\u001b[0;32m     29\u001b[0m         \u001b[38;5;28mprint\u001b[39m(\u001b[38;5;124mf\u001b[39m\u001b[38;5;124m\"\u001b[39m\u001b[38;5;132;01m{\u001b[39;00mi\u001b[38;5;132;01m}\u001b[39;00m\u001b[38;5;124m. \u001b[39m\u001b[38;5;132;01m{\u001b[39;00mmember\u001b[38;5;241m.\u001b[39mname\u001b[38;5;132;01m}\u001b[39;00m\u001b[38;5;124m (Role: \u001b[39m\u001b[38;5;132;01m{\u001b[39;00mmember\u001b[38;5;241m.\u001b[39mrole\u001b[38;5;132;01m}\u001b[39;00m\u001b[38;5;124m, Experience: \u001b[39m\u001b[38;5;132;01m{\u001b[39;00mmember\u001b[38;5;241m.\u001b[39mexperience\u001b[38;5;132;01m}\u001b[39;00m\u001b[38;5;124m)\u001b[39m\u001b[38;5;124m\"\u001b[39m)\n\u001b[0;32m     30\u001b[0m \u001b[38;5;28;01melse\u001b[39;00m:\n",
      "\u001b[1;31mNameError\u001b[0m: name 'crew_roster' is not defined"
     ]
    }
   ],
   "source": [
    "# Theme: Managing an Interstellar Space Crew Problem: You are the captain of a spaceship on a deep-space mission. Your crew members each have a name, role, and experience level.\n",
    "\n",
    "# Use namedtuple to store crew member details.\n",
    "# Use deque to manage the roster efficiently.\n",
    "# Implement functions to: – Add a new crew member – Remove the least experienced member – Display the current crew lineup Example Usage: add_crew(\"Commander Vega\", \"Pilot\", 9) add_crew(\"Dr. Nova\", \"Scientist\", 8) add_crew(\"Lt. Orion\", \"Engineer\", 7) remove_least_experienced() display_roster() Expected Output: Current Crew Roster:\n",
    "# Commander Vega (Role: Pilot, Experience: 9)\n",
    "# Dr. Nova (Role: Scientist, Experience: 8) 🚔 Hint: Use namedtuple for structured crew data and deque for efficient roster changes.\n",
    "from collections import namedtuple\n",
    "from collections import deque\n",
    "\n",
    "CrewMember=namedtuple(\"CrewMember\",[\"name\",\"role\",\"experience_level\"])\n",
    "roster=deque()\n",
    "\n",
    "def add_crew(name,role,experience_level):\n",
    "    roster.append(CrewMember(name,role,experience_level))\n",
    "\n",
    "def remove_least_experienced():\n",
    "    if roster:\n",
    "        least_exp=min(roster,key=lambda s:s.experience_level)\n",
    "        roster.remove(least_exp)\n",
    "    else:\n",
    "        print(\"no one should be removed\")\n",
    "\n",
    "\n",
    "def display_roster():\n",
    "    if roster:\n",
    "        print(\"Current Crew Roster\")\n",
    "        for i, member in enumerate(crew_roster, start=1):\n",
    "            print(f\"{i}. {member.name} (Role: {member.role}, Experience: {member.experience})\")\n",
    "    else:\n",
    "        print(\"The crew roster is empty.\")\n",
    "    \n",
    "\n",
    "add_crew(\"Commander Vega\", \"Pilot\", 9)\n",
    "add_crew(\"Dr. Nova\", \"Scientist\", 8)\n",
    "add_crew(\"Lt. Orion\", \"Engineer\", 7)\n",
    "\n",
    "\n",
    "remove_least_experienced()\n",
    "display_roster()"
   ]
  },
  {
   "cell_type": "code",
   "execution_count": null,
   "id": "f025fc21-a6bd-488c-8735-5536dd6f545e",
   "metadata": {},
   "outputs": [],
   "source": []
  }
 ],
 "metadata": {
  "kernelspec": {
   "display_name": "Python [conda env:base] *",
   "language": "python",
   "name": "conda-base-py"
  },
  "language_info": {
   "codemirror_mode": {
    "name": "ipython",
    "version": 3
   },
   "file_extension": ".py",
   "mimetype": "text/x-python",
   "name": "python",
   "nbconvert_exporter": "python",
   "pygments_lexer": "ipython3",
   "version": "3.12.7"
  }
 },
 "nbformat": 4,
 "nbformat_minor": 5
}
