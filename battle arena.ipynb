{
 "cells": [
  {
   "cell_type": "code",
   "execution_count": 5,
   "id": "ca72d729-b42a-4afc-97ac-b2c733d4d061",
   "metadata": {},
   "outputs": [
    {
     "ename": "SyntaxError",
     "evalue": "incomplete input (101159930.py, line 72)",
     "output_type": "error",
     "traceback": [
      "\u001b[1;36m  Cell \u001b[1;32mIn[5], line 72\u001b[1;36m\u001b[0m\n\u001b[1;33m    \u001b[0m\n\u001b[1;37m    ^\u001b[0m\n\u001b[1;31mSyntaxError\u001b[0m\u001b[1;31m:\u001b[0m incomplete input\n"
     ]
    }
   ],
   "source": [
    "import random\n",
    "class Character:\n",
    "    def __init__(self, name, health, attack_power, defense, speed):\n",
    "        self.name = name               \n",
    "        self.health = health            \n",
    "        self.attack_power = attack_power  \n",
    "        self.defense = defense          \n",
    "        self.speed = speed            \n",
    "\n",
    "    def attack(self, target):\n",
    "        damage = max(1, self.attack_power - target.defense)  \n",
    "        target.take_damage(damage)\n",
    "        print(f\"{self.name} attacks {target.name} cause {damage} damage.\")\n",
    "\n",
    "    def take_damage(self, amount):\n",
    "        self.health -= amount  \n",
    "        print(f\"{self.name} takes {amount} damage. Health: {self.health}\")\n",
    "\n",
    "    def is_alive(self):\n",
    "        return self.health > 0  \n",
    "\n",
    "class Warrior(Character):\n",
    "    def __init__(self, name):\n",
    "        super().__init__(name, health=100, attack_power=15, defense=10, speed=5)\n",
    "        self.rage = 0 \n",
    "\n",
    "    def take_damage(self, amount):\n",
    "        super().take_damage(amount)  \n",
    "        self.rage += 5  \n",
    "\n",
    "        if self.health <= 30:  \n",
    "            self.attack_power *= 2  \n",
    "            print(f\"{self.name} enters Berserk Mode! Attack power doubles!\")\n",
    "\n",
    "class Mage(Character):\n",
    "    def __init__(self, name):\n",
    "        super().__init__(name, health=80, attack_power=20, defense=5, speed=7)\n",
    "        self.mana = 100  \n",
    "\n",
    "    def fireball(self, target):\n",
    "        if self.mana >= 20:\n",
    "            damage = self.attack_power * 2  \n",
    "            self.mana -= 20  \n",
    "            self.take_damage(5)  \n",
    "            print(f\"{self.name} casts Fireball on {target.name}cause {damage} damage but loses 5 health.\")\n",
    "            target.take_damage(damage)\n",
    "        else:\n",
    "            print(f\"{self.name} does not have enough mana! Performing normal attack.\")\n",
    "            self.attack(target)\n",
    "\n",
    "class Archer(Character):\n",
    "    def __init__(self, name):\n",
    "        super().__init__(name, health=90, attack_power=18, defense=7, speed=10)\n",
    "        self.critical_chance = 30\n",
    "\n",
    "    def precision_shot(self, target):\n",
    "        if random.randint(1, 100) <= self.critical_chance:\n",
    "            damage = self.attack_power * 2  \n",
    "            print(f\" {self.name} lands a Critical Hit on {target.name} cause {damage} damage!\")\n",
    "        else:\n",
    "            damage = self.attack_power\n",
    "            print(f\"{self.name} shoots an arrow at {target.name} Deals {damage} damage.\")\n",
    "        \n",
    "        target.take_damage(damage)\n",
    "\n",
    "def battle(char1, char2):\n",
    "    \n",
    "    \n",
    "    print(f\"\\n Battle Start: {char1.name} vs {char2.name} \\n\")\n",
    "    while char1.is_alive() and char2.is_alive():\n",
    "\n",
    "\n"
   ]
  },
  {
   "cell_type": "code",
   "execution_count": null,
   "id": "e2414d44-97ad-4050-8616-3fc480ad57dd",
   "metadata": {},
   "outputs": [],
   "source": []
  },
  {
   "cell_type": "code",
   "execution_count": null,
   "id": "c218eef8-488d-414c-a51f-517cf8b19fc4",
   "metadata": {},
   "outputs": [],
   "source": []
  },
  {
   "cell_type": "code",
   "execution_count": null,
   "id": "7a16f924-764e-4160-89b2-3ee2f80e4fa1",
   "metadata": {},
   "outputs": [],
   "source": []
  },
  {
   "cell_type": "code",
   "execution_count": 1,
   "id": "1825e7a8-5a44-4ac6-b3dc-d930d9b1f319",
   "metadata": {},
   "outputs": [
    {
     "ename": "SyntaxError",
     "evalue": "incomplete input (2303250875.py, line 89)",
     "output_type": "error",
     "traceback": [
      "\u001b[1;36m  Cell \u001b[1;32mIn[1], line 89\u001b[1;36m\u001b[0m\n\u001b[1;33m    \u001b[0m\n\u001b[1;37m    ^\u001b[0m\n\u001b[1;31mSyntaxError\u001b[0m\u001b[1;31m:\u001b[0m incomplete input\n"
     ]
    }
   ],
   "source": [
    "\n",
    "        \n",
    "    \n",
    "        \n",
    "        \n",
    "        \n",
    "        \n",
    " \n",
    "    \n",
    "    \n",
    "        \n",
    "        \n",
    "        \n"
   ]
  },
  {
   "cell_type": "code",
   "execution_count": null,
   "id": "ebd14982-d46c-46e3-ae7e-c8df75e13a51",
   "metadata": {},
   "outputs": [],
   "source": []
  }
 ],
 "metadata": {
  "kernelspec": {
   "display_name": "Python [conda env:base] *",
   "language": "python",
   "name": "conda-base-py"
  },
  "language_info": {
   "codemirror_mode": {
    "name": "ipython",
    "version": 3
   },
   "file_extension": ".py",
   "mimetype": "text/x-python",
   "name": "python",
   "nbconvert_exporter": "python",
   "pygments_lexer": "ipython3",
   "version": "3.12.7"
  }
 },
 "nbformat": 4,
 "nbformat_minor": 5
}
