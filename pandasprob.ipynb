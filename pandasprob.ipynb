{
 "cells": [
  {
   "cell_type": "code",
   "execution_count": 16,
   "id": "570fac4e-f44c-4d38-8914-393c11dc1718",
   "metadata": {},
   "outputs": [
    {
     "name": "stdout",
     "output_type": "stream",
     "text": [
      "Average Salary in Each Department:\n",
      " Department\n",
      "Finance    82500.000000\n",
      "HR         71666.666667\n",
      "IT         65666.666667\n",
      "Name: Salary, dtype: float64\n",
      "\n",
      "Employees with More than 5 Years of Experience and Salary Above $65,000:\n",
      "   Employee Department  Age  Salary  Experience\n",
      "1      Bob         IT   32   70000           7\n",
      "3    David         HR   41   80000          15\n",
      "4     Emma    Finance   37   75000          10\n",
      "5    Frank    Finance   45   90000          20\n",
      "7   Hannah         HR   38   85000          12\n",
      "\n",
      "IT Department Employees Sorted by Salary (Descending):\n",
      "   Employee Department  Age  Salary  Experience\n",
      "1      Bob         IT   32   70000           7\n",
      "2  Charlie         IT   29   65000           5\n",
      "6    Grace         IT   26   62000           3\n"
     ]
    }
   ],
   "source": [
    "\n",
    "# � Problem 1: Employee Salary Insights 🐼 \n",
    "# �\n",
    "# � Scenario: \n",
    "# A company maintains employee records in a Pandas DataFrame. Each employee has a \n",
    "# name, department, age, salary, and years of experience. The HR department needs \n",
    "# insights into salary distribution, promotions, and department-wise analysis. \n",
    "# �\n",
    "# � Given DataFrame: \n",
    "# import pandas as pd \n",
    "# data = { \n",
    "# 'Employee': ['Alice', 'Bob', 'Charlie', 'David', 'Emma', 'Frank', \n",
    "# 'Grace', 'Hannah'], \n",
    "# 'Department': ['HR', 'IT', 'IT', 'HR', 'Finance', 'Finance', 'IT', \n",
    "# 'HR'], \n",
    "# 'Age': [25, 32, 29, 41, 37, 45, 26, 38], \n",
    "# 'Salary': [50000, 70000, 65000, 80000, 75000, 90000, 62000, \n",
    "# 85000], \n",
    "# 'Experience': [2, 7, 5, 15, 10, 20, 3, 12] \n",
    "# } \n",
    "# df = pd.DataFrame(data) \n",
    "\n",
    "\n",
    "import pandas as pd \n",
    "data = { \n",
    "    'Employee': ['Alice', 'Bob', 'Charlie', 'David', 'Emma', 'Frank', 'Grace', 'Hannah'], \n",
    "    'Department': ['HR', 'IT', 'IT', 'HR', 'Finance', 'Finance', 'IT', 'HR'], \n",
    "    'Age': [25, 32, 29, 41, 37, 45, 26, 38], \n",
    "    'Salary': [50000, 70000, 65000, 80000, 75000, 90000, 62000, 85000], \n",
    "    'Experience': [2, 7, 5, 15, 10, 20, 3, 12] \n",
    "}\n",
    "\n",
    "df = pd.DataFrame(data)\n",
    "\n",
    "avg_salary_dept = df.groupby(\"Department\")[\"Salary\"].mean()\n",
    "print(\"Average Salary in Each Department:\\n\", avg_salary_dept)\n",
    "\n",
    "high_experience_salary = df[(df[\"Experience\"] > 5) & (df[\"Salary\"] > 65000)]\n",
    "print(\"\\nEmployees with More than 5 Years of Experience and Salary Above $65,000:\\n\", high_experience_salary)\n",
    "\n",
    "sorted_it_employees = df[df[\"Department\"] == \"IT\"].sort_values(by=\"Salary\", ascending=False)\n",
    "print(\"\\nIT Department Employees Sorted by Salary (Descending):\\n\", sorted_it_employees)\n"
   ]
  },
  {
   "cell_type": "code",
   "execution_count": 20,
   "id": "c9f96829-debe-4591-9074-66ad05f1a866",
   "metadata": {},
   "outputs": [
    {
     "name": "stdout",
     "output_type": "stream",
     "text": [
      "Average Marks for Each Subject:\n",
      " Subject\n",
      "Math       86.25\n",
      "Science    70.00\n",
      "Name: Marks, dtype: float64\n",
      "\n",
      "Students Scoring Above 85 with Less than 90% Attendance:\n",
      " Empty DataFrame\n",
      "Columns: [Student, Subject, Marks, Attendance]\n",
      "Index: []\n",
      "\n",
      "Correlation between Marks and Attendance: 0.9901770851376991\n"
     ]
    }
   ],
   "source": [
    "import pandas as pd \n",
    "\n",
    "# Given DataFrame\n",
    "data = { \n",
    "    'Student': ['John', 'Sara', 'Mike', 'Anna', 'David', 'Emily', 'Chris', 'Sophia'], \n",
    "    'Subject': ['Math', 'Science', 'Math', 'Science', 'Math', 'Science', 'Math', 'Science'], \n",
    "    'Marks': [85, 72, 90, 65, 78, 88, 92, 55], \n",
    "    'Attendance': [92, 80, 95, 70, 85, 90, 97, 60] \n",
    "}\n",
    "\n",
    "df = pd.DataFrame(data)\n",
    "avg_marks_subject = df.groupby(\"Subject\")[\"Marks\"].mean()\n",
    "print(\"Average Marks for Each Subject:\\n\", avg_marks_subject)\n",
    "\n",
    "high_marks_low_attendance = df[(df[\"Marks\"] > 85) & (df[\"Attendance\"] < 90)]\n",
    "print(\"\\nStudents Scoring Above 85 with Less than 90% Attendance:\\n\", high_marks_low_attendance)\n",
    "\n",
    "\n",
    "correlation = df[\"Marks\"].corr(df[\"Attendance\"])\n",
    "print(\"\\nCorrelation between Marks and Attendance:\", correlation)\n"
   ]
  },
  {
   "cell_type": "code",
   "execution_count": null,
   "id": "41f917dd-d54b-4430-aa94-b512756522bb",
   "metadata": {},
   "outputs": [],
   "source": []
  }
 ],
 "metadata": {
  "kernelspec": {
   "display_name": "Python [conda env:base] *",
   "language": "python",
   "name": "conda-base-py"
  },
  "language_info": {
   "codemirror_mode": {
    "name": "ipython",
    "version": 3
   },
   "file_extension": ".py",
   "mimetype": "text/x-python",
   "name": "python",
   "nbconvert_exporter": "python",
   "pygments_lexer": "ipython3",
   "version": "3.12.7"
  }
 },
 "nbformat": 4,
 "nbformat_minor": 5
}
