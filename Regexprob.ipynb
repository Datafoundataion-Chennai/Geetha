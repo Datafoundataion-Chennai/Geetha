{
 "cells": [
  {
   "cell_type": "code",
   "execution_count": 1,
   "id": "0e783fb3-696c-42b5-b7da-f41d55fad2b9",
   "metadata": {},
   "outputs": [
    {
     "name": "stdout",
     "output_type": "stream",
     "text": [
      "['support@example.com', 'john.doe123@company.org', 'jane_doe@domain.co.uk.']\n"
     ]
    }
   ],
   "source": [
    "# Description: Write a Python program to extract all valid email addresses from a given text. An email is considered valid if it follows this pattern: - Starts with alphanumeric characters ([a-zA-Z0-9]) - May contain periods (.), underscores (_), or hyphens (-) before the @ - Must contain an @ symbol - Domain name contains alphanumeric characters, possibly hyphens (-) - Ends with a valid top-level domain (e.g., .com, .org, .net, .edu, etc.) Example Input: text = \"Contact us at support@example.com, john.doe123@company.org, or invalid-email@com. Also, try jane_doe@domain.co.uk.\" Expected Output: ['support@example.com', 'john.doe123@company.org', 'jane_doe@domain.co.uk']\n",
    "\n",
    "import re\n",
    "text = \"Contact us at support@example.com, john.doe123@company.org, or invalid-email@com. Also, try triveni@tri.c jane_doe@domain.co.uk.\"\n",
    "match=re.findall(r\"[a-zA-Z0-9._-]+@[a-zA-Z0-9-]+\\.[a-zA-Z.]{2,}\",text)\n",
    "print(match)"
   ]
  },
  {
   "cell_type": "code",
   "execution_count": 3,
   "id": "62540125-4029-4836-8f0f-979c4a6fd978",
   "metadata": {},
   "outputs": [
    {
     "name": "stdout",
     "output_type": "stream",
     "text": [
      "['#Python', '#coding', '#100DaysOfCode', '#Regex_Challenge', '#Triveni']\n"
     ]
    }
   ],
   "source": [
    "# Problem 2: Extract Hashtags from a Tweet\n",
    "# Description: Write a Python program to extract all hashtags (#hashtag) from a given text. - A hashtag: - Starts with # - Followed by letters, numbers, or underscores (_) - Cannot contain spaces or special characters (@, !, $, etc.) Example Input: tweet = \"Learning #Python is fun! #coding #100DaysOfCode #Regex_Challenge\" Expected Output: ['#Python', '#coding', '#100DaysOfCode', '#Regex_Challenge']\n",
    "\n",
    "import re\n",
    "tweet = \"Learning #Python is fun! #coding #100DaysOfCode #Regex_Challenge #Triveni$\"\n",
    "match=re.findall(r\"#\\w+\",tweet)\n",
    "print(match)"
   ]
  },
  {
   "cell_type": "code",
   "execution_count": 5,
   "id": "23ae42a7-45e5-43dd-ae95-084673ca52cb",
   "metadata": {},
   "outputs": [
    {
     "name": "stdout",
     "output_type": "stream",
     "text": [
      "WeakPass -> Invalid\n",
      "Str0ng@Pass -> Valid\n",
      "NoSpecial1 -> Invalid\n",
      "short!1 -> Invalid\n",
      "Secure#123 -> Valid\n"
     ]
    }
   ],
   "source": [
    "# Problem 3: Validate a Strong Password\n",
    "# Description: Write a Python program to check if a password is strong based on these rules: 1. At least 8 characters long 2. Contains at least one uppercase letter (A-Z) 3. Contains at least one lowercase letter (a-z) 4. Contains at least one digit (0-9) 5. Contains at least one special character (@, $, !, %, *, ?, &) Example Inputs & Outputs: passwords = [\"WeakPass\", \"Str0ng@Pass\", \"NoSpecial1\", \"short!1\", \"Secure#123\"] Expected Output: WeakPass -> Invalid Str0ng@Pass -> Valid NoSpecial1 -> Invalid short!1 -> Invalid Secure#123 -> InValid\n",
    "\n",
    "import re\n",
    "\n",
    "passwords = [\"WeakPass\", \"Str0ng@Pass\", \"NoSpecial1\", \"short!1\", \"Secure#123\"]\n",
    "\n",
    "for password in passwords:\n",
    "    if (len(password) >= 8 and\n",
    "        re.search(r\"[A-Z]\", password) and \n",
    "        re.search(r\"[a-z]\", password) and \n",
    "        re.search(r\"[0-9]\", password) and \n",
    "        re.search(r\"[#@$!%*?&]\", password)):\n",
    "        print(f\"{password} -> Valid\")\n",
    "    else:\n",
    "        print(f\"{password} -> Invalid\")"
   ]
  },
  {
   "cell_type": "code",
   "execution_count": null,
   "id": "3e0e459b-5950-406f-8c8d-cdd28fa88efc",
   "metadata": {},
   "outputs": [],
   "source": []
  }
 ],
 "metadata": {
  "kernelspec": {
   "display_name": "Python [conda env:base] *",
   "language": "python",
   "name": "conda-base-py"
  },
  "language_info": {
   "codemirror_mode": {
    "name": "ipython",
    "version": 3
   },
   "file_extension": ".py",
   "mimetype": "text/x-python",
   "name": "python",
   "nbconvert_exporter": "python",
   "pygments_lexer": "ipython3",
   "version": "3.12.7"
  }
 },
 "nbformat": 4,
 "nbformat_minor": 5
}
