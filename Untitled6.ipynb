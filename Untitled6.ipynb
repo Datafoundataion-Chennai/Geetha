{
 "cells": [
  {
   "cell_type": "code",
   "execution_count": 1,
   "id": "45da87d8-7f7b-4200-8277-719c0a5d9d9c",
   "metadata": {},
   "outputs": [
    {
     "name": "stderr",
     "output_type": "stream",
     "text": [
      "WARNING:root:warning message\n",
      "ERROR:root:error message\n",
      "CRITICAL:root:Critical issue\n"
     ]
    }
   ],
   "source": [
    "import logging\n",
    "\n",
    "for i in logging.root.handlers[:]:\n",
    "    logging.root.removeHandler(i)\n",
    "\n",
    "logging.basicConfig(level=logging.WARNING)\n",
    "logging.info(\"Character Created\")\n",
    "logging.debug(\"debug up\")\n",
    "logging.warning(\"warning message\")\n",
    "logging.error(\"error message\")\n",
    "logging.critical(\"Critical issue\")\n",
    "\n",
    "\n"
   ]
  },
  {
   "cell_type": "code",
   "execution_count": null,
   "id": "a8bbc6e6-af38-4d14-8c36-203b116d7ce4",
   "metadata": {},
   "outputs": [],
   "source": [
    "import re\n",
    "# meta characters\n",
    "# match() -> checks begining of string \n",
    "# search() ->anywhere but return 1st occurance\n",
    "# findall() -> it will return all occurances\n",
    "# . ->ca.   =cat,car....(metacharacter)\n",
    "# ^ -> ^he  =\"hello\",\"he\"\n",
    "# $ ->word$ =\"hello world\",\"disneyworld\"\n",
    "# * ->a*(0 or more)= \"\"(empty strings),\"aa\",\"aaa\",\"hooland\"\n",
    "# +-> a+(1 or more)=\"a\",\"aaaa\"\n",
    "# ? -> colo?r=color,colour\n",
    "# {n}-> a{3}->\"aaa\"\n",
    "# {n,m}->a[2,4]=\"aa\",\"aaa\",\"aaaa\"\n",
    "# []->[aeiou]=\"a\",\"e\",\"i\",\"o\",\"u\"\n"
   ]
  },
  {
   "cell_type": "code",
   "execution_count": 39,
   "id": "6b3a2504-aebc-4a4c-b945-19614002ed97",
   "metadata": {},
   "outputs": [],
   "source": [
    "import re\n",
    "text=\"python is a powerful.high-level programming launguage known for its simplicity\"\n",
    "# match=re.findall(r\"hi+\",text)\n",
    "# print(match)"
   ]
  },
  {
   "cell_type": "code",
   "execution_count": 23,
   "id": "81e3d5ce-7de6-4be1-9fe4-d78409918721",
   "metadata": {},
   "outputs": [
    {
     "name": "stdout",
     "output_type": "stream",
     "text": [
      "['.']\n"
     ]
    }
   ],
   "source": [
    "match=re.findall(r\"\\.\",text)\n",
    "print(match)"
   ]
  },
  {
   "cell_type": "code",
   "execution_count": 33,
   "id": "e336a386-1a26-45a6-834b-b16c31758e77",
   "metadata": {},
   "outputs": [
    {
     "name": "stdout",
     "output_type": "stream",
     "text": [
      "['thon']\n"
     ]
    }
   ],
   "source": [
    "match=re.findall(r\"p?thon\",text)\n",
    "print(match)"
   ]
  },
  {
   "cell_type": "code",
   "execution_count": 97,
   "id": "84063a93-5f6b-43e3-9d43-7c71dc90302d",
   "metadata": {},
   "outputs": [
    {
     "name": "stdout",
     "output_type": "stream",
     "text": [
      "['mm']\n"
     ]
    }
   ],
   "source": [
    "text=\"Python is a Powerful.high-level programming launguage known for its code Development and app development simplicity and readability object-oriented\"\n",
    "match=re.findall(r\"m{2}\",text)\n",
    "print(match)"
   ]
  },
  {
   "cell_type": "code",
   "execution_count": 55,
   "id": "e5e4f3e6-ffdb-4bae-a30f-2a17ac98a1b1",
   "metadata": {},
   "outputs": [
    {
     "name": "stdout",
     "output_type": "stream",
     "text": [
      "['amm']\n"
     ]
    }
   ],
   "source": [
    "match=re.findall(r\"[a-z A-Z 0-9]m{2}\",text)\n",
    "print(match)"
   ]
  },
  {
   "cell_type": "code",
   "execution_count": 59,
   "id": "55dc3d04-d699-4be2-aef7-b727a9953c15",
   "metadata": {},
   "outputs": [
    {
     "name": "stdout",
     "output_type": "stream",
     "text": [
      "['python']\n"
     ]
    }
   ],
   "source": [
    "match=re.findall(r\"python\",text,re.IGNORECASE)\n",
    "print(match)"
   ]
  },
  {
   "cell_type": "code",
   "execution_count": 67,
   "id": "c3f6161e-07ff-4b9d-bb0b-e44eeee74e23",
   "metadata": {},
   "outputs": [
    {
     "name": "stdout",
     "output_type": "stream",
     "text": [
      "['programming', 'simplicity', 'readability']\n"
     ]
    }
   ],
   "source": [
    "match=re.findall(r\"(programming|simplicity|readability)\",text)\n",
    "print(match)"
   ]
  },
  {
   "cell_type": "code",
   "execution_count": 77,
   "id": "8cd6a18e-5d98-41d7-b53d-5bda9fe588e2",
   "metadata": {},
   "outputs": [
    {
     "name": "stdout",
     "output_type": "stream",
     "text": [
      "['high-level', 'object-oriented']\n"
     ]
    }
   ],
   "source": [
    "match=re.findall(r\"\\w+-\\w+\",text,re.IGNORECASE)\n",
    "print(match)"
   ]
  },
  {
   "cell_type": "code",
   "execution_count": 87,
   "id": "e313c26a-9a7c-497a-a642-6bb2edad4e91",
   "metadata": {},
   "outputs": [
    {
     "name": "stdout",
     "output_type": "stream",
     "text": [
      "['programming']\n"
     ]
    }
   ],
   "source": [
    "match=re.findall(r\"\\b\\w+ing\",text,re.IGNORECASE)\n",
    "print(match)"
   ]
  },
  {
   "cell_type": "code",
   "execution_count": 99,
   "id": "97d55a12-6e10-4ec5-af5d-861dc7e7f0f3",
   "metadata": {},
   "outputs": [
    {
     "name": "stdout",
     "output_type": "stream",
     "text": [
      "['Python', 'Powerful', 'Development']\n"
     ]
    }
   ],
   "source": [
    "\n",
    "match=re.findall(r\"\\b[A-Z][a-z]+\\b\",text)\n",
    "print(match)"
   ]
  },
  {
   "cell_type": "code",
   "execution_count": 47,
   "id": "1361e0d2-78f3-4068-8c9b-892e0fe30bfd",
   "metadata": {},
   "outputs": [
    {
     "name": "stdout",
     "output_type": "stream",
     "text": [
      "['Contact', 'Also']\n"
     ]
    }
   ],
   "source": [
    "match=re.findall(r\"\\b[A-Z][a-z]+\\b\",text)\n",
    "print(match)"
   ]
  },
  {
   "cell_type": "code",
   "execution_count": 53,
   "id": "90d6ea1e-259d-44f7-98e1-f3227b33ff6c",
   "metadata": {},
   "outputs": [
    {
     "name": "stdout",
     "output_type": "stream",
     "text": [
      "['support@example.com', 'john.doe123@company.org', 'jane_doe@domain.co.uk.']\n"
     ]
    }
   ],
   "source": [
    "import re\n",
    "text = \"Contact us at GEETHA@123.C support@example.com, john.doe123@company.org, or invalid-email@com. Also, try jane_doe@domain.co.uk.\" \n",
    "\n",
    "match=re.findall(r\"[a-zA-Z0-9._-]+@[A-Za-z0-9-]+\\.[a-zA-Z.]{2,}\",text)\n",
    "print(match)"
   ]
  },
  {
   "cell_type": "code",
   "execution_count": 27,
   "id": "327396b9-a4ff-4fd0-82b1-8ad8113a98a0",
   "metadata": {},
   "outputs": [
    {
     "name": "stdout",
     "output_type": "stream",
     "text": [
      "['#Python', '#coding', '#100DaysOfCode', '#Regex_Challenge']\n"
     ]
    }
   ],
   "source": [
    "# write a Python program to extract all hashtags (#hashtag) from a given text. - A hashtag: - Starts with # - Followed by letters, numbers, or underscores (_) - Cannot \n",
    "# contain spaces or special characters (@, !, $, etc.) \n",
    "# Example Input: \n",
    "import re\n",
    "tweet = \"Learning #Python is fun! #coding #100DaysOfCode #Regex_Challenge\" \n",
    "# Expected Output: \n",
    "# ['#Python', '#coding', '#100DaysOfCode', '#Regex_Challenge'] \n",
    "match=re.findall(r\"#[a-zA-Z0-9._!]+\",tweet)\n",
    "print(match)\n"
   ]
  },
  {
   "cell_type": "code",
   "execution_count": 20,
   "id": "2b8b4fa1-fd57-4877-aad1-b7b4959ffd22",
   "metadata": {},
   "outputs": [
    {
     "name": "stdout",
     "output_type": "stream",
     "text": [
      "WeakPass->invalid\n",
      "Str0ng@Pass->valid\n",
      "NoSpecial1->invalid\n",
      "short!1->invalid\n",
      "Secure#123->valid\n"
     ]
    }
   ],
   "source": [
    "\n",
    "# Write a Python program to check if a password is strong based on these rules: 1. At least 8 \n",
    "# characters long 2. Contains at least one uppercase letter (A-Z) 3. Contains at least one \n",
    "# lowercase letter (a-z) 4. Contains at least one digit (0-9) 5. Contains at least one special \n",
    "# character (@, $, !, %, *, ?, &) \n",
    "# Example Inputs & Outputs: \n",
    "import re\n",
    "passwords = [\"WeakPass\", \"Str0ng@Pass\", \"NoSpecial1\", \"short!1\", \"Secure#123\"]\n",
    "for password in passwords:\n",
    "    \n",
    "    if len(password)>=8 and re.search(r\"[A-Z]\",password) and re.search(r\"[a-z]\",password) and re.search(r\"[#@$!*?&]\",password) and re.search(r\"[0-9]\",password):\n",
    "        print(f\"{password}->valid\")\n",
    "    else:\n",
    "        print(f\"{password}->invalid\")\n",
    "    \n",
    "\n"
   ]
  },
  {
   "cell_type": "code",
   "execution_count": 55,
   "id": "b75b5a10-3fef-4bc8-ae61-31128fa2e2dc",
   "metadata": {},
   "outputs": [
    {
     "name": "stderr",
     "output_type": "stream",
     "text": [
      "2025-03-03 17:11:33,204 - SWARNING - Invalid Authorization Code!\n",
      "2025-03-03 17:11:33,206 - SERROR - Launch Authorization Failed! Access Denied.\n",
      "2025-03-03 17:11:33,208 - SINFO - Authorization Code Validated Successfully!\n",
      "2025-03-03 17:11:33,209 - SINFO - Launch authorized for USS Trident. Preparing to launch SLBM...\n",
      "2025-03-03 17:11:33,210 - SINFO - 🚀 Missile launched carrying Warhead W001: Type Thermonuclear, Yield 1000kt!\n"
     ]
    }
   ],
   "source": [
    "# main.py \n",
    "import json \n",
    "import logging \n",
    "from authorization import LaunchAuthorizationSystem \n",
    " \n",
    "# Set up logging (console output only) \n",
    "logging.basicConfig(level=logging.INFO, format=\"%(asctime)s -%(levelname)s - %(message)s\")\n",
    " \n",
    "class Warhead: \n",
    "    \"\"\"Represents a nuclear warhead with specific payload \n",
    "information.\"\"\" \n",
    "     \n",
    "    def __init__(self, warhead_id, type, yield_kt): \n",
    "        self.warhead_id = warhead_id \n",
    "        self.type = type \n",
    "        self.yield_kt = yield_kt  # Yield in kilotons \n",
    " \n",
    "    def get_info(self): \n",
    "        return f\"Warhead {self.warhead_id}: Type {self.type}, Yield {self.yield_kt}kt\" \n",
    " \n",
    "class Submarine: \n",
    "    \"\"\"Controls the nuclear missile launch sequence.\"\"\" \n",
    "     \n",
    "    def __init__(self, name, warhead_data): \n",
    "        self.name = name \n",
    "        self.warheads = [Warhead(**w) for w in warhead_data] \n",
    " \n",
    "    def authorize_launch(self, auth_code): \n",
    "        \"\"\"Attempts to authorize and launch a missile.\"\"\" \n",
    "        if LaunchAuthorizationSystem.validate_code(auth_code): \n",
    "            logging.info(f\"Launch authorized for {self.name}. Preparing to launch SLBM...\") \n",
    "            self.launch_missile() \n",
    "        else: \n",
    "            logging.error(\"Launch Authorization Failed! Access Denied.\") \n",
    " \n",
    "    def launch_missile(self): \n",
    "        \"\"\"Simulates launching a missile.\"\"\" \n",
    "        if self.warheads: \n",
    "            warhead = self.warheads.pop(0)  # Fire the first available warhead \n",
    "            logging.info(f\"🚀 Missile launched carrying {warhead.get_info()}!\") \n",
    "        else: \n",
    "            logging.warning(\"No warheads available for launch.\") \n",
    " \n",
    "# JSON Data (Simulating a warhead payload inventory) \n",
    "warhead_json = \"\"\"[\n",
    "    {\"warhead_id\": \"W001\", \"type\": \"Thermonuclear\", \"yield_kt\": 1000},\n",
    "    {\"warhead_id\": \"W002\", \"type\": \"Tactical\", \"yield_kt\": 300}]\"\"\"\n",
    "\n",
    "\n",
    "# Load warhead data\n",
    "warhead_data = json.loads(warhead_json)\n",
    "\n",
    "# Initialize submarine\n",
    "submarine = Submarine(\"USS Trident\", warhead_data)\n",
    "\n",
    "# 🚀 Try launching with an incorrect code\n",
    "submarine.authorize_launch(\"INVALID-123\")\n",
    "\n",
    "# 🚀 Try launching with a valid code\n",
    "submarine.authorize_launch(\"AUTH-XYZ123-4567-SECURE\")\n",
    "\n",
    "\n",
    "\n"
   ]
  },
  {
   "cell_type": "code",
   "execution_count": null,
   "id": "363fe7f2-8193-4e54-b667-765c4db26a46",
   "metadata": {},
   "outputs": [],
   "source": []
  }
 ],
 "metadata": {
  "kernelspec": {
   "display_name": "Python [conda env:base] *",
   "language": "python",
   "name": "conda-base-py"
  },
  "language_info": {
   "codemirror_mode": {
    "name": "ipython",
    "version": 3
   },
   "file_extension": ".py",
   "mimetype": "text/x-python",
   "name": "python",
   "nbconvert_exporter": "python",
   "pygments_lexer": "ipython3",
   "version": "3.12.7"
  }
 },
 "nbformat": 4,
 "nbformat_minor": 5
}
